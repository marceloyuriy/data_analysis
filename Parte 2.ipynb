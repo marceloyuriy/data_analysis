{
 "cells": [
  {
   "cell_type": "code",
   "execution_count": 1,
   "metadata": {},
   "outputs": [],
   "source": [
    "import pandas as pd"
   ]
  },
  {
   "cell_type": "code",
   "execution_count": 2,
   "metadata": {},
   "outputs": [],
   "source": [
    "#Leitura dos dados do contrato\n",
    "df1 = pd.read_csv('Teste casa dos ventos/contracts.csv', sep=';')\n",
    "#Leitura dos dados da garantia física\n",
    "df2 = pd.read_csv('Teste casa dos ventos/gf.csv')\n",
    "#Leitura dos dados para cálculo da liquidacao esperada\n",
    "df3 = pd.read_csv('Teste casa dos ventos/geracao_futura.csv')\n",
    "#Leitura dos preços forward\n",
    "df4 = pd.read_csv('Teste casa dos ventos/price_forward.csv')"
   ]
  },
  {
   "cell_type": "code",
   "execution_count": 3,
   "metadata": {},
   "outputs": [],
   "source": [
    "df1['volume_mwh'] = df1['volume_mwm']*(31*24)\n",
    "df1.rename(columns = {'party' : 'park'}, inplace = True)\n",
    "pd.set_option('display.max_rows', 144)"
   ]
  },
  {
   "cell_type": "code",
   "execution_count": 4,
   "metadata": {},
   "outputs": [],
   "source": [
    "df_filtro = df1.groupby(['park', 'month', 'type', 'energy_type']).agg({'volume_mwh':'sum'}).reset_index()\n",
    "df_compra1 = df_filtro[((df_filtro['type'] == 'compra')&(df_filtro['month'] >= 7))]\n",
    "df_venda1 = df_filtro[((df_filtro['type'] == 'venda')&(df_filtro['month'] >= 7))]\n",
    "df_compra = df_compra1.merge(df4[['month','price_ne']], how = 'left', on = ['month'])\n",
    "df_venda = df_venda1.merge(df4[['month','price_ne']], how = 'left', on = ['month'])\n",
    "df_compra['valor'] = df_compra['price_ne']*df_compra['volume_mwh']\n",
    "df_venda['valor'] = df_venda['price_ne']*df_venda['volume_mwh']"
   ]
  },
  {
   "cell_type": "code",
   "execution_count": 5,
   "metadata": {
    "scrolled": true
   },
   "outputs": [],
   "source": [
    "df_geral = df_venda.merge(df_compra, how = 'left', on = ['park', 'month', 'energy_type', 'price_ne'], suffixes=('_venda', '_compra'))\n",
    "del df_geral['type_compra']\n",
    "del df_geral['type_venda']\n",
    "df_geral['volume_mwh_compra'] = df_geral['volume_mwh_compra'].fillna(0)\n",
    "df_geral['valor_compra'] = df_geral['valor_compra'].fillna(0)"
   ]
  },
  {
   "cell_type": "code",
   "execution_count": 6,
   "metadata": {},
   "outputs": [],
   "source": [
    "#Transformando os dados da garantia física\n",
    "df2['gf_mwh'] = df2['gf_mwm']*(31*24)\n",
    "del df2['gf_mwm']"
   ]
  },
  {
   "cell_type": "code",
   "execution_count": 7,
   "metadata": {},
   "outputs": [],
   "source": [
    "#Adicionando os dados da garantia física ao dataframe geral\n",
    "df_geral = df_geral.merge(df2, how = 'left', on = ['park', 'month'])                                                "
   ]
  },
  {
   "cell_type": "code",
   "execution_count": 8,
   "metadata": {},
   "outputs": [],
   "source": [
    "#Cálculo do balanço de garantia física\n",
    "df_geral['balanco_gf'] = df_geral['gf_mwh'] + df_geral['volume_mwh_compra'] - df_geral['volume_mwh_venda']"
   ]
  },
  {
   "cell_type": "code",
   "execution_count": 9,
   "metadata": {},
   "outputs": [],
   "source": [
    "#Transformando os dados da geração futura\n",
    "df3['p50_mwh'] = df3['p50_mwm']*(31*24)\n",
    "del df3['p50_mwm']"
   ]
  },
  {
   "cell_type": "code",
   "execution_count": 10,
   "metadata": {},
   "outputs": [],
   "source": [
    "#Adicionando os dados da geração futura ao dataframe geral\n",
    "df_geral = df_geral.merge(df3, how = 'left', on = ['park', 'month'])\n",
    "del df_geral['complex']\n",
    "del df_geral['p90_mwm']\n",
    "df_geral.rename(columns = {'p50_mwh' : 'geracao_prevista_mwh'}, inplace = True)"
   ]
  },
  {
   "cell_type": "code",
   "execution_count": 11,
   "metadata": {},
   "outputs": [],
   "source": [
    "#Cálculo do balanço energético esperado\n",
    "df_geral['balanco_energetico_esperado'] = df_geral['geracao_prevista_mwh'] + df_geral['volume_mwh_compra'] - df_geral['volume_mwh_venda']"
   ]
  },
  {
   "cell_type": "code",
   "execution_count": 12,
   "metadata": {},
   "outputs": [],
   "source": [
    "#Adicionando o spread ao dataframe geral\n",
    "df_geral = df_geral.merge(df4[['month','spread_incentivada']], how = 'left', on = ['month'])\n",
    "df_geral.loc[df_geral['energy_type']=='convencional', 'spread_incentivada'] = 0"
   ]
  },
  {
   "cell_type": "code",
   "execution_count": 13,
   "metadata": {},
   "outputs": [],
   "source": [
    "#Cálculo das grandezas requeridas\n",
    "df_geral['liquidacao_esperada'] = df_geral['balanco_energetico_esperado']*df_geral['price_ne']\n",
    "df_geral['receita_esperada'] = df_geral['valor_venda'] - df_geral['valor_compra'] + df_geral['liquidacao_esperada'] + df_geral['balanco_gf']*df_geral['spread_incentivada']\n",
    "df_geral['receita_contratos'] = df_geral['valor_venda'] - df_geral['valor_compra']\n",
    "df_geral['receita_exposicao'] = df_geral['geracao_prevista_mwh']*df_geral['price_ne']"
   ]
  },
  {
   "cell_type": "code",
   "execution_count": 14,
   "metadata": {},
   "outputs": [],
   "source": [
    "#Arquivos de saída\n",
    "df_geral.to_csv('parte2.csv')\n",
    "df_geral.to_excel('parte2.xlsx')"
   ]
  }
 ],
 "metadata": {
  "kernelspec": {
   "display_name": "Python 3",
   "language": "python",
   "name": "python3"
  },
  "language_info": {
   "codemirror_mode": {
    "name": "ipython",
    "version": 3
   },
   "file_extension": ".py",
   "mimetype": "text/x-python",
   "name": "python",
   "nbconvert_exporter": "python",
   "pygments_lexer": "ipython3",
   "version": "3.8.3"
  }
 },
 "nbformat": 4,
 "nbformat_minor": 4
}
