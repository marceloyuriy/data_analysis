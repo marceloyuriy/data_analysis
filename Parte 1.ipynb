{
 "cells": [
  {
   "cell_type": "code",
   "execution_count": 1,
   "metadata": {},
   "outputs": [],
   "source": [
    "import pandas as pd"
   ]
  },
  {
   "cell_type": "code",
   "execution_count": 2,
   "metadata": {},
   "outputs": [],
   "source": [
    "#Leitura dos dados para cálculo dos valores de venda e compra\n",
    "df1 = pd.read_csv('Teste casa dos ventos/contracts.csv', sep=';')"
   ]
  },
  {
   "cell_type": "code",
   "execution_count": 3,
   "metadata": {},
   "outputs": [],
   "source": [
    "df1['volume_mwh'] = df1['volume_mwm']*(31*24)\n",
    "df1['valor'] = df1.price*(df1.volume_mwh)\n",
    "df1.rename(columns = {'party' : 'park'}, inplace = True)\n",
    "pd.set_option('display.max_rows', 144)"
   ]
  },
  {
   "cell_type": "code",
   "execution_count": 4,
   "metadata": {},
   "outputs": [],
   "source": [
    "#Filtrando e separando em dados de compra e venda\n",
    "df_filtro = df1.groupby(['park', 'month', 'type']).agg({'volume_mwh':'sum'}).reset_index()\n",
    "df_filtro2 = df1.groupby(['park', 'month', 'type']).agg({'valor':'sum'}).reset_index()\n",
    "df_compra1 = df_filtro[((df_filtro['type'] == 'compra')&(df_filtro['month'] < 7))]\n",
    "df_compra2 = df_filtro2[((df_filtro2['type'] == 'compra')&(df_filtro['month'] < 7))]\n",
    "df_venda1 = df_filtro[((df_filtro['type'] == 'venda')&(df_filtro['month'] < 7))]\n",
    "df_venda2 = df_filtro2[((df_filtro2['type'] == 'venda')&(df_filtro['month'] < 7))]\n",
    "df_compra = df_compra1.merge(df_compra2, how = 'left', on = ['park', 'month'])\n",
    "df_venda = df_venda1.merge(df_venda2, how = 'left', on = ['park', 'month'])\n",
    "del df_compra['type_y']\n",
    "del df_venda['type_y']\n",
    "df_compra.rename(columns = {'type_x' : 'type'}, inplace = True)\n",
    "df_venda.rename(columns = {'type_x' : 'type'}, inplace = True)"
   ]
  },
  {
   "cell_type": "code",
   "execution_count": 5,
   "metadata": {},
   "outputs": [],
   "source": [
    "#Leitura dos dados para cálculo da liquidação\n",
    "df_geracao = pd.read_csv('Teste casa dos ventos/geracao_realizada.csv')\n",
    "df_pld = pd.read_csv('Teste casa dos ventos/pld.csv')"
   ]
  },
  {
   "cell_type": "code",
   "execution_count": 6,
   "metadata": {},
   "outputs": [],
   "source": [
    "#Transformando a string em data nos dados da geração horária\n",
    "df_geracao['date'] = pd.to_datetime(df_geracao['datetime'])\n",
    "df_geracao['month'] = df_geracao.date.dt.month\n",
    "del df_geracao['datetime']\n",
    "df_geracao['park'] = df_geracao['park'].str.lower()"
   ]
  },
  {
   "cell_type": "code",
   "execution_count": 7,
   "metadata": {},
   "outputs": [],
   "source": [
    "#Transformando a string em data nos dados de PLD\n",
    "df_pld['date'] = pd.to_datetime(df_pld['datetime'])\n",
    "df_pld['month'] = df_pld.date.dt.month\n",
    "del df_pld['datetime']\n",
    "df_pld = df_pld.sort_values(by=['date', 'month'], ignore_index= True)\n",
    "df_pld = df_pld[(df_pld['submercado'] == 'NORDESTE')]"
   ]
  },
  {
   "cell_type": "code",
   "execution_count": 8,
   "metadata": {},
   "outputs": [],
   "source": [
    "#Unindo os dados de geração horária aos dados de PLD horário para posterior cálculo da liquidação\n",
    "df_liquidacao = df_geracao.merge(df_pld, how = 'left', on = ['date', 'month'])\n",
    "del df_liquidacao['submercado']"
   ]
  },
  {
   "cell_type": "code",
   "execution_count": 9,
   "metadata": {},
   "outputs": [],
   "source": [
    "#Cálculo das grandezas necessárias\n",
    "df_compra['volume_mwh_compra_horario'] = df_compra['volume_mwh']/(31*24)\n",
    "df_venda['volume_mwh_venda_horario'] = df_venda['volume_mwh']/(31*24)\n",
    "df_liquidacao = df_liquidacao.merge(df_compra, how = 'left', on = ['park', 'month'])\n",
    "df_liquidacao = df_liquidacao.merge(df_venda, how = 'left', on = ['park', 'month'], suffixes=('_compra', '_venda'))\n",
    "del df_liquidacao['type_compra']\n",
    "del df_liquidacao['type_venda']\n",
    "del df_liquidacao['volume_mwh_compra']\n",
    "del df_liquidacao['valor_compra']\n",
    "del df_liquidacao['volume_mwh_venda']\n",
    "del df_liquidacao['valor_venda']\n",
    "df_liquidacao['volume_mwh_compra_horario'] = df_liquidacao['volume_mwh_compra_horario'].fillna(0)\n",
    "df_liquidacao['receita_exposicao'] = df_liquidacao['generation_mwh']*df_liquidacao['pld']\n",
    "df_liquidacao['balanco_energetico'] = df_liquidacao['generation_mwh'] + df_liquidacao['volume_mwh_compra_horario'] - df_liquidacao['volume_mwh_venda_horario']\n",
    "df_liquidacao['liquidacao'] = (df_liquidacao['generation_mwh'] + df_liquidacao['volume_mwh_compra_horario'] - df_liquidacao['volume_mwh_venda_horario'])*df_liquidacao['pld']"
   ]
  },
  {
   "cell_type": "code",
   "execution_count": 10,
   "metadata": {},
   "outputs": [],
   "source": [
    "#Separando em diferentes dataframes para cada dado\n",
    "df_exposicao = df_liquidacao.groupby(['park', 'month']).agg({'receita_exposicao':'sum'}).reset_index()\n",
    "df_geracao = df_liquidacao.groupby(['park', 'month']).agg({'generation_mwh':'sum'}).reset_index()\n",
    "df_balanco = df_liquidacao.groupby(['park', 'month']).agg({'balanco_energetico':'sum'}).reset_index() \n",
    "df_liquidacao = df_liquidacao.groupby(['park', 'month']).agg({'liquidacao':'sum'}).reset_index()"
   ]
  },
  {
   "cell_type": "code",
   "execution_count": 11,
   "metadata": {},
   "outputs": [],
   "source": [
    "#Unindo todos os dados separados por mês e parque\n",
    "df_geral = df_geracao.merge(df_compra, how = 'left', on = ['park', 'month'])\n",
    "df_geral = df_geral.merge(df_venda, how = 'left', on = ['park', 'month'], suffixes=('_compra', '_venda'))\n",
    "df_geral = df_geral.merge(df_exposicao, how = 'left', on = ['park', 'month'])\n",
    "df_geral = df_geral.merge(df_balanco, how = 'left', on = ['park', 'month'])\n",
    "df_geral = df_geral.merge(df_liquidacao, how = 'left', on = ['park', 'month'])\n",
    "del df_geral['type_compra']\n",
    "del df_geral['type_venda']\n",
    "del df_geral['volume_mwh_compra_horario']\n",
    "del df_geral['volume_mwh_venda_horario']\n",
    "df_geral['volume_mwh_compra'] = df_geral['volume_mwh_compra'].fillna(0)\n",
    "df_geral['valor_compra'] = df_geral['valor_compra'].fillna(0)"
   ]
  },
  {
   "cell_type": "code",
   "execution_count": 12,
   "metadata": {},
   "outputs": [],
   "source": [
    "#Cálculo das receitas\n",
    "Receita_contratos = df_geral['valor_venda'] - df_geral['valor_compra']\n",
    "Receita = df_geral['valor_venda'] - df_geral['valor_compra'] + df_geral['liquidacao']\n",
    "df_geral['receita_contratos'] = Receita_contratos\n",
    "df_geral['receita'] = Receita"
   ]
  },
  {
   "cell_type": "code",
   "execution_count": 13,
   "metadata": {},
   "outputs": [],
   "source": [
    "#Arquivos de saída\n",
    "df_geral.to_csv('parte1.csv')\n",
    "df_geral.to_excel('parte1.xlsx')"
   ]
  }
 ],
 "metadata": {
  "kernelspec": {
   "display_name": "Python 3",
   "language": "python",
   "name": "python3"
  },
  "language_info": {
   "codemirror_mode": {
    "name": "ipython",
    "version": 3
   },
   "file_extension": ".py",
   "mimetype": "text/x-python",
   "name": "python",
   "nbconvert_exporter": "python",
   "pygments_lexer": "ipython3",
   "version": "3.8.3"
  }
 },
 "nbformat": 4,
 "nbformat_minor": 4
}
