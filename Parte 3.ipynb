{
 "cells": [
  {
   "cell_type": "code",
   "execution_count": 1,
   "metadata": {},
   "outputs": [],
   "source": [
    "import pandas as pd"
   ]
  },
  {
   "cell_type": "code",
   "execution_count": 2,
   "metadata": {},
   "outputs": [],
   "source": [
    "#Leitura dos dados obtidos nas duas partes anteriores\n",
    "df_parte1 = pd.read_csv('parte1.csv')\n",
    "df_parte2 = pd.read_csv('parte2.csv')         "
   ]
  },
  {
   "cell_type": "code",
   "execution_count": 3,
   "metadata": {},
   "outputs": [],
   "source": [
    "#Unindo os dados de interesse na parte 1\n",
    "df_parte1['balanco_energetico'] = (df_parte1['balanco_energetico']/(31*24))\n",
    "df_parte1.rename(columns = {'balanco_energetico' : 'balanco_energetico_mwm'}, inplace = True)\n",
    "df_1semestre = df_parte1[['park','month','balanco_energetico_mwm','receita']]"
   ]
  },
  {
   "cell_type": "code",
   "execution_count": 4,
   "metadata": {},
   "outputs": [],
   "source": [
    "#Unindo os dados de interesse na parte 2\n",
    "df_balanco = df_parte2.groupby(['park', 'month']).agg({'balanco_energetico_esperado':'sum'}).reset_index()\n",
    "df_balanco['balanco_energetico_mwm_esperado'] = df_balanco['balanco_energetico_esperado']/(31*24)\n",
    "del df_balanco['balanco_energetico_esperado']\n",
    "df_price = df_parte2.groupby(['park', 'month']).agg({'price_ne':'mean'}).reset_index()\n",
    "df_receita = df_parte2.groupby(['park', 'month']).agg({'receita_esperada':'sum'}).reset_index()\n",
    "df_esperado = df_balanco.merge(df_price, how = 'left', on = ['park', 'month']) \n",
    "df_esperado = df_esperado.merge(df_receita, how = 'left', on = ['park', 'month']) "
   ]
  },
  {
   "cell_type": "code",
   "execution_count": 5,
   "metadata": {},
   "outputs": [],
   "source": [
    "#Unindo os dados das partes 1 e 2 para comparação\n",
    "pd.set_option('display.max_rows', 216)\n",
    "df_esperado.rename(columns = {'balanco_energetico_mwm_esperado' : 'balanco_energetico_mwm'}, inplace = True)\n",
    "df_esperado.rename(columns = {'receita_esperada' : 'receita'}, inplace = True)\n",
    "del df_esperado['price_ne']\n",
    "df_1semestre = df_1semestre.append(df_esperado)\n",
    "df_comparacao = df_1semestre"
   ]
  },
  {
   "cell_type": "code",
   "execution_count": 6,
   "metadata": {},
   "outputs": [],
   "source": [
    "#Arquivos de saída\n",
    "df_comparacao.to_csv('parte3.csv')\n",
    "df_comparacao.to_excel('parte3.xlsx')"
   ]
  }
 ],
 "metadata": {
  "kernelspec": {
   "display_name": "Python 3",
   "language": "python",
   "name": "python3"
  },
  "language_info": {
   "codemirror_mode": {
    "name": "ipython",
    "version": 3
   },
   "file_extension": ".py",
   "mimetype": "text/x-python",
   "name": "python",
   "nbconvert_exporter": "python",
   "pygments_lexer": "ipython3",
   "version": "3.8.3"
  }
 },
 "nbformat": 4,
 "nbformat_minor": 4
}
